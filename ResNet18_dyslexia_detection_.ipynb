{
  "cells": [
    {
      "cell_type": "code",
      "execution_count": null,
      "id": "bc69b4c3",
      "metadata": {
        "id": "bc69b4c3"
      },
      "outputs": [],
      "source": [
        "import os\n",
        "import shutil\n",
        "import random\n",
        "import numpy as np\n",
        "import matplotlib.pyplot as plt\n",
        "from PIL import Image\n",
        "from torchvision import models, transforms\n",
        "from torch.utils.data import DataLoader, Dataset\n",
        "import torch\n",
        "import torch.nn as nn\n",
        "import torch.optim as optim\n",
        "from sklearn.metrics import classification_report, confusion_matrix\n",
        "from sklearn.model_selection import train_test_split"
      ]
    },
    {
      "cell_type": "code",
      "execution_count": null,
      "id": "26cf9965",
      "metadata": {
        "colab": {
          "base_uri": "https://localhost:8080/"
        },
        "id": "26cf9965",
        "outputId": "d51293be-b848-4835-d231-bd8bad6a5658"
      },
      "outputs": [
        {
          "output_type": "execute_result",
          "data": {
            "text/plain": [
              "<torch._C.Generator at 0x78168bfd12f0>"
            ]
          },
          "metadata": {},
          "execution_count": 75
        }
      ],
      "source": [
        "# Set random seeds for reproducibility\n",
        "random.seed(42)\n",
        "np.random.seed(42)\n",
        "torch.manual_seed(42)"
      ]
    },
    {
      "cell_type": "code",
      "execution_count": null,
      "id": "1affa469",
      "metadata": {
        "colab": {
          "base_uri": "https://localhost:8080/"
        },
        "id": "1affa469",
        "outputId": "41130cde-734d-4a3b-d729-b2bd64e98bed"
      },
      "outputs": [
        {
          "output_type": "stream",
          "name": "stdout",
          "text": [
            "Drive already mounted at /content/drive; to attempt to forcibly remount, call drive.mount(\"/content/drive\", force_remount=True).\n"
          ]
        }
      ],
      "source": [
        "# Mount Google Drive (if not already mounted)\n",
        "from google.colab import drive\n",
        "drive.mount('/content/drive')\n",
        "\n",
        "# Paths\n",
        "original_data_dir = '/content/drive/MyDrive/grad_data'  # Parent directory containing 'normal' and 'dyslexic' folders\n",
        "split_base_dir = '/content/drive/MyDrive/grad_data/split_dataset'  # Where to store the split datasets\n",
        "checkpoint_path = '/content/drive/MyDrive/grad_data/best_model.pth'  # Model checkpoint path\n",
        "resume_checkpoint_path = '/content/drive/MyDrive/grad_data/resume_checkpoint.pth'\n",
        "\n",
        "\n",
        "# Class names (should match your folder names)\n",
        "class_names = ['dyslexic', 'normal']"
      ]
    },
    {
      "cell_type": "code",
      "execution_count": null,
      "id": "9e883fc5",
      "metadata": {
        "id": "9e883fc5"
      },
      "outputs": [],
      "source": [
        "# Prepare Dataset with stratified splitting\n",
        "def prepare_dataset():\n",
        "    if os.path.exists(split_base_dir):\n",
        "        shutil.rmtree(split_base_dir)\n",
        "    os.makedirs(split_base_dir, exist_ok=True)\n",
        "\n",
        "    for split in ['train', 'val', 'test']:\n",
        "        for cls in class_names:\n",
        "            os.makedirs(os.path.join(split_base_dir, split, cls), exist_ok=True)\n",
        "\n",
        "    # Collect all images with their labels for stratified splitting\n",
        "    all_images = []\n",
        "    all_labels = []\n",
        "\n",
        "    for label, cls in enumerate(class_names):\n",
        "        full_path = os.path.join(original_data_dir, cls)\n",
        "        if not os.path.exists(full_path):\n",
        "            print(f\"Warning: Directory {full_path} does not exist!\")\n",
        "            continue\n",
        "\n",
        "        images = [img for img in os.listdir(full_path)\n",
        "                 if img.lower().endswith(('.png', '.jpg', '.jpeg', '.bmp', '.tiff'))]\n",
        "\n",
        "        for img in images:\n",
        "            all_images.append(os.path.join(full_path, img))\n",
        "            all_labels.append(cls)\n",
        "\n",
        "    if len(all_images) == 0:\n",
        "        raise ValueError(\"No images found in the dataset directory!\")\n",
        "\n",
        "    # Stratified split: 70% train, 15% val, 15% test\n",
        "    train_imgs, temp_imgs, train_labels, temp_labels = train_test_split(\n",
        "        all_images, all_labels, test_size=0.3, stratify=all_labels, random_state=42\n",
        "    )\n",
        "\n",
        "    val_imgs, test_imgs, val_labels, test_labels = train_test_split(\n",
        "        temp_imgs, temp_labels, test_size=0.5, stratify=temp_labels, random_state=42\n",
        "    )\n",
        "\n",
        "    # Copy files to respective directories\n",
        "    for img_path, label in zip(train_imgs, train_labels):\n",
        "        shutil.copy(img_path, os.path.join(split_base_dir, 'train', label))\n",
        "\n",
        "    for img_path, label in zip(val_imgs, val_labels):\n",
        "        shutil.copy(img_path, os.path.join(split_base_dir, 'val', label))\n",
        "\n",
        "    for img_path, label in zip(test_imgs, test_labels):\n",
        "        shutil.copy(img_path, os.path.join(split_base_dir, 'test', label))\n",
        "\n",
        "    print(f\"Dataset split completed:\")\n",
        "    print(f\"Train: {len(train_imgs)} images\")\n",
        "    print(f\"Validation: {len(val_imgs)} images\")\n",
        "    print(f\"Test: {len(test_imgs)} images\")"
      ]
    },
    {
      "cell_type": "code",
      "execution_count": null,
      "id": "8c267958",
      "metadata": {
        "id": "8c267958"
      },
      "outputs": [],
      "source": [
        "# Custom Dataset with error handling\n",
        "class DyslexiaDataset(Dataset):\n",
        "    def __init__(self, folder, transform=None):\n",
        "        self.folder = folder\n",
        "        self.transform = transform\n",
        "        self.images = []\n",
        "        self.labels = []\n",
        "\n",
        "        for label, cls in enumerate(class_names):\n",
        "            cls_folder = os.path.join(folder, cls)\n",
        "            if not os.path.exists(cls_folder):\n",
        "                continue\n",
        "\n",
        "            for img in os.listdir(cls_folder):\n",
        "                img_path = os.path.join(cls_folder, img)\n",
        "                try:\n",
        "                    # Test if image can be opened\n",
        "                    Image.open(img_path).convert('RGB')\n",
        "                    self.images.append(img_path)\n",
        "                    self.labels.append(label)\n",
        "                except Exception as e:\n",
        "                    print(f\"Skipping corrupted image: {img_path}\")\n",
        "                    continue\n",
        "\n",
        "    def __len__(self):\n",
        "        return len(self.images)\n",
        "\n",
        "    def __getitem__(self, idx):\n",
        "        img_path = self.images[idx]\n",
        "        try:\n",
        "            image = Image.open(img_path).convert('RGB')\n",
        "            label = self.labels[idx]\n",
        "            if self.transform:\n",
        "                image = self.transform(image)\n",
        "            return image, label\n",
        "        except Exception as e:\n",
        "            print(f\"Error loading image {img_path}: {e}\")\n",
        "            # Return a black image as fallback\n",
        "            image = Image.new('RGB', (224, 224), (0, 0, 0))\n",
        "            if self.transform:\n",
        "                image = self.transform(image)\n",
        "            return image, self.labels[idx]"
      ]
    },
    {
      "cell_type": "code",
      "execution_count": null,
      "id": "dd04077d",
      "metadata": {
        "id": "dd04077d"
      },
      "outputs": [],
      "source": [
        "# Enhanced transforms with data augmentation\n",
        "train_transforms = transforms.Compose([\n",
        "    transforms.Resize((256, 256)),\n",
        "    transforms.RandomResizedCrop(224, scale=(0.8, 1.0)),\n",
        "    transforms.ColorJitter(brightness=0.2, contrast=0.2, saturation=0.2, hue=0.1),\n",
        "    transforms.ToTensor(),\n",
        "    transforms.Normalize(mean=[0.485, 0.456, 0.406], std=[0.229, 0.224, 0.225])\n",
        "])\n",
        "\n",
        "test_transforms = transforms.Compose([\n",
        "    transforms.Resize((224, 224)),\n",
        "    transforms.ToTensor(),\n",
        "    transforms.Normalize(mean=[0.485, 0.456, 0.406], std=[0.229, 0.224, 0.225])\n",
        "])"
      ]
    },
    {
      "cell_type": "code",
      "execution_count": null,
      "id": "9decd4ba",
      "metadata": {
        "colab": {
          "base_uri": "https://localhost:8080/"
        },
        "id": "9decd4ba",
        "outputId": "744ccc26-e9bc-4fc1-960b-9873f53683bf"
      },
      "outputs": [
        {
          "output_type": "stream",
          "name": "stdout",
          "text": [
            "Dataset split completed:\n",
            "Train: 2148 images\n",
            "Validation: 460 images\n",
            "Test: 461 images\n"
          ]
        }
      ],
      "source": [
        "# Prepare dataset\n",
        "try:\n",
        "    prepare_dataset()\n",
        "except Exception as e:\n",
        "    print(f\"Error preparing dataset: {e}\")\n",
        "    exit(1)"
      ]
    },
    {
      "cell_type": "code",
      "execution_count": null,
      "id": "f1e0cb9e",
      "metadata": {
        "colab": {
          "base_uri": "https://localhost:8080/"
        },
        "id": "f1e0cb9e",
        "outputId": "779cca2a-7a94-4670-f85b-7175859435f0"
      },
      "outputs": [
        {
          "output_type": "stream",
          "name": "stdout",
          "text": [
            "Training samples: 2148\n",
            "Validation samples: 460\n",
            "Test samples: 461\n"
          ]
        }
      ],
      "source": [
        "# Datasets & Loaders\n",
        "BATCH_SIZE = 32\n",
        "train_dataset = DyslexiaDataset(os.path.join(split_base_dir, 'train'), train_transforms)\n",
        "val_dataset = DyslexiaDataset(os.path.join(split_base_dir, 'val'), test_transforms)\n",
        "test_dataset = DyslexiaDataset(os.path.join(split_base_dir, 'test'), test_transforms)\n",
        "\n",
        "if len(train_dataset) == 0:\n",
        "    raise ValueError(\"No training data found!\")\n",
        "\n",
        "train_loader = DataLoader(train_dataset, batch_size=BATCH_SIZE, shuffle=True, num_workers=2)\n",
        "val_loader = DataLoader(val_dataset, batch_size=BATCH_SIZE, shuffle=False, num_workers=2)\n",
        "test_loader = DataLoader(test_dataset, batch_size=BATCH_SIZE, shuffle=False, num_workers=2)\n",
        "\n",
        "print(f\"Training samples: {len(train_dataset)}\")\n",
        "print(f\"Validation samples: {len(val_dataset)}\")\n",
        "print(f\"Test samples: {len(test_dataset)}\")"
      ]
    },
    {
      "cell_type": "code",
      "execution_count": null,
      "id": "bef1f601",
      "metadata": {
        "colab": {
          "base_uri": "https://localhost:8080/"
        },
        "id": "bef1f601",
        "outputId": "31a45e69-4dff-414e-baf1-3a7ac2c2a910"
      },
      "outputs": [
        {
          "output_type": "stream",
          "name": "stderr",
          "text": [
            "/usr/local/lib/python3.11/dist-packages/torchvision/models/_utils.py:208: UserWarning: The parameter 'pretrained' is deprecated since 0.13 and may be removed in the future, please use 'weights' instead.\n",
            "  warnings.warn(\n",
            "/usr/local/lib/python3.11/dist-packages/torchvision/models/_utils.py:223: UserWarning: Arguments other than a weight enum or `None` for 'weights' are deprecated since 0.13 and may be removed in the future. The current behavior is equivalent to passing `weights=ResNet18_Weights.IMAGENET1K_V1`. You can also use `weights=ResNet18_Weights.DEFAULT` to get the most up-to-date weights.\n",
            "  warnings.warn(msg)\n"
          ]
        },
        {
          "output_type": "stream",
          "name": "stdout",
          "text": [
            "Using device: cpu\n"
          ]
        }
      ],
      "source": [
        "# Load pretrained ResNet\n",
        "model = models.resnet18(pretrained=True)\n",
        "\n",
        "# Progressive unfreezing approach\n",
        "def set_parameter_requires_grad(model, feature_extracting):\n",
        "    if feature_extracting:\n",
        "        for param in model.parameters():\n",
        "            param.requires_grad = False\n",
        "\n",
        "# Initially freeze all layers\n",
        "set_parameter_requires_grad(model, feature_extracting=True)\n",
        "\n",
        "# Replace final layer for binary classification\n",
        "num_ftrs = model.fc.in_features\n",
        "model.fc = nn.Linear(num_ftrs, 2)\n",
        "\n",
        "# Move to GPU if available\n",
        "device = torch.device(\"cuda\" if torch.cuda.is_available() else \"cpu\")\n",
        "print(f\"Using device: {device}\")\n",
        "model = model.to(device)\n",
        "\n",
        "# Loss and optimizer\n",
        "criterion = nn.CrossEntropyLoss()\n",
        "optimizer = optim.Adam(model.fc.parameters(), lr=0.001)  # Only train classifier initially\n",
        "\n",
        "# LR scheduler\n",
        "scheduler = torch.optim.lr_scheduler.StepLR(optimizer, step_size=7, gamma=0.1)"
      ]
    },
    {
      "cell_type": "code",
      "execution_count": null,
      "id": "c9b9a72c",
      "metadata": {
        "id": "c9b9a72c"
      },
      "outputs": [],
      "source": [
        "# Function to save complete checkpoint\n",
        "def save_checkpoint(model, optimizer, scheduler, epoch, best_acc, history, filepath):\n",
        "    \"\"\"Save complete training state\"\"\"\n",
        "    checkpoint = {\n",
        "        'epoch': epoch,\n",
        "        'model_state_dict': model.state_dict(),\n",
        "        'optimizer_state_dict': optimizer.state_dict(),\n",
        "        'scheduler_state_dict': scheduler.state_dict(),\n",
        "        'best_acc': best_acc,\n",
        "        'history': history\n",
        "    }\n",
        "    torch.save(checkpoint, filepath)\n",
        "    print(f\"Checkpoint saved at epoch {epoch + 1}\")"
      ]
    },
    {
      "cell_type": "code",
      "execution_count": null,
      "id": "8284294e",
      "metadata": {
        "id": "8284294e"
      },
      "outputs": [],
      "source": [
        "# Function to load checkpoint\n",
        "def load_checkpoint(filepath, model, optimizer, scheduler):\n",
        "    \"\"\"Load complete training state\"\"\"\n",
        "    if os.path.exists(filepath):\n",
        "        print(f\"Loading checkpoint from {filepath}\")\n",
        "        checkpoint = torch.load(filepath, map_location=device)\n",
        "\n",
        "        model.load_state_dict(checkpoint['model_state_dict'])\n",
        "        optimizer.load_state_dict(checkpoint['optimizer_state_dict'])\n",
        "        scheduler.load_state_dict(checkpoint['scheduler_state_dict'])\n",
        "\n",
        "        start_epoch = checkpoint['epoch'] + 1\n",
        "        best_acc = checkpoint['best_acc']\n",
        "        history = checkpoint['history']\n",
        "\n",
        "        print(f\"Resuming training from epoch {start_epoch}\")\n",
        "        print(f\"Best accuracy so far: {best_acc:.4f}\")\n",
        "\n",
        "        return start_epoch, best_acc, history\n",
        "    else:\n",
        "        print(\"No checkpoint found, starting from scratch\")\n",
        "        return 0, 0.0, {'train_loss': [], 'val_loss': [], 'val_acc': []}"
      ]
    },
    {
      "cell_type": "code",
      "execution_count": null,
      "id": "57ac6e9b",
      "metadata": {
        "id": "57ac6e9b"
      },
      "outputs": [],
      "source": []
    },
    {
      "cell_type": "code",
      "execution_count": null,
      "id": "61b4b854",
      "metadata": {
        "id": "61b4b854"
      },
      "outputs": [],
      "source": []
    },
    {
      "cell_type": "code",
      "execution_count": null,
      "id": "9981954a",
      "metadata": {
        "id": "9981954a"
      },
      "outputs": [],
      "source": [
        "# Improved training function with checkpoint resuming\n",
        "def train_model(model, train_loader, val_loader, epochs=15, patience=5, resume=True):\n",
        "    # Initialize optimizer and scheduler before resuming\n",
        "    optimizer = torch.optim.Adam(filter(lambda p: p.requires_grad, model.parameters()), lr=0.001)\n",
        "    scheduler = torch.optim.lr_scheduler.StepLR(optimizer, step_size=5, gamma=0.1)\n",
        "\n",
        "    if resume:\n",
        "        start_epoch, best_acc, history = load_checkpoint(resume_checkpoint_path, model, optimizer, scheduler)\n",
        "        epochs_no_improve = 0\n",
        "        best_epoch = start_epoch - 1 if start_epoch > 0 else 0\n",
        "        print(f\"✅ Resumed from checkpoint at epoch {start_epoch} with best val acc {best_acc:.4f}\")\n",
        "    else:\n",
        "        start_epoch = 0\n",
        "        best_acc = 0.0\n",
        "        history = {'train_loss': [], 'val_loss': [], 'val_acc': []}\n",
        "        epochs_no_improve = 0\n",
        "        best_epoch = 0\n",
        "\n",
        "    for epoch in range(start_epoch, epochs):\n",
        "        print(f'\\nEpoch {epoch+1}/{epochs}')\n",
        "        print('-' * 20)\n",
        "\n",
        "        # Training phase\n",
        "        model.train()\n",
        "        running_loss = 0.0\n",
        "\n",
        "        for batch_idx, (inputs, labels) in enumerate(train_loader):\n",
        "            inputs, labels = inputs.to(device), labels.to(device)\n",
        "\n",
        "            optimizer.zero_grad()\n",
        "            outputs = model(inputs)\n",
        "            loss = criterion(outputs, labels)\n",
        "            loss.backward()\n",
        "            optimizer.step()\n",
        "\n",
        "            running_loss += loss.item()\n",
        "\n",
        "            if batch_idx % 10 == 0:\n",
        "                print(f'Batch {batch_idx}/{len(train_loader)}, Loss: {loss.item():.4f}')\n",
        "\n",
        "        epoch_loss = running_loss / len(train_loader)\n",
        "\n",
        "        # Validation phase\n",
        "        model.eval()\n",
        "        val_loss = 0.0\n",
        "        val_correct = 0\n",
        "        total = 0\n",
        "\n",
        "        with torch.no_grad():\n",
        "            for inputs, labels in val_loader:\n",
        "                inputs, labels = inputs.to(device), labels.to(device)\n",
        "                outputs = model(inputs)\n",
        "                loss = criterion(outputs, labels)\n",
        "                val_loss += loss.item()\n",
        "\n",
        "                _, preds = torch.max(outputs, 1)\n",
        "                val_correct += (preds == labels).sum().item()\n",
        "                total += labels.size(0)\n",
        "\n",
        "        val_loss = val_loss / len(val_loader)\n",
        "        val_acc = val_correct / total\n",
        "\n",
        "        # Store metrics\n",
        "        history['train_loss'].append(epoch_loss)\n",
        "        history['val_loss'].append(val_loss)\n",
        "        history['val_acc'].append(val_acc)\n",
        "\n",
        "        print(f'Train Loss: {epoch_loss:.4f}, Val Loss: {val_loss:.4f}, Val Acc: {val_acc:.4f}')\n",
        "\n",
        "        # Save best model\n",
        "        if val_acc > best_acc:\n",
        "            best_acc = val_acc\n",
        "            best_epoch = epoch\n",
        "            epochs_no_improve = 0\n",
        "            torch.save(model.state_dict(), checkpoint_path)\n",
        "            print(f'✅ New best model saved with Val Acc: {best_acc:.4f}')\n",
        "        else:\n",
        "            epochs_no_improve += 1\n",
        "\n",
        "        # Save resume checkpoint every epoch\n",
        "        save_checkpoint(model, optimizer, scheduler, epoch, best_acc, history, resume_checkpoint_path)\n",
        "\n",
        "        # Early stopping\n",
        "        if epochs_no_improve >= patience:\n",
        "            print(f'⏹️ Early stopping triggered after {patience} epochs without improvement')\n",
        "            break\n",
        "\n",
        "        # Unfreeze more layers after initial epochs\n",
        "        if epoch == 5 and start_epoch <= 5:\n",
        "            print(\"🔓 Unfreezing layer4 for fine-tuning...\")\n",
        "            for param in model.layer4.parameters():\n",
        "                param.requires_grad = True\n",
        "            optimizer = torch.optim.Adam(filter(lambda p: p.requires_grad, model.parameters()), lr=0.0001)\n",
        "            scheduler = torch.optim.lr_scheduler.StepLR(optimizer, step_size=5, gamma=0.1)\n",
        "\n",
        "        scheduler.step()\n",
        "\n",
        "    print(f'\\nTraining completed. Best Val Acc: {best_acc:.4f} at epoch {best_epoch + 1}')\n",
        "\n",
        "    # Clean up resume checkpoint after successful completion\n",
        "    if os.path.exists(resume_checkpoint_path):\n",
        "        os.remove(resume_checkpoint_path)\n",
        "        print(\"Resume checkpoint cleaned up\")\n",
        "\n",
        "    return history\n"
      ]
    },
    {
      "cell_type": "code",
      "execution_count": null,
      "id": "78406795",
      "metadata": {
        "colab": {
          "base_uri": "https://localhost:8080/"
        },
        "id": "78406795",
        "outputId": "fca1837f-cc91-419a-8f1e-bb0606949aa4"
      },
      "outputs": [
        {
          "output_type": "stream",
          "name": "stdout",
          "text": [
            "Starting training...\n",
            "Note: Training will automatically resume from the last checkpoint if available\n",
            "No checkpoint found, starting from scratch\n",
            "✅ Resumed from checkpoint at epoch 0 with best val acc 0.0000\n",
            "\n",
            "Epoch 1/15\n",
            "--------------------\n",
            "Batch 0/68, Loss: 0.6554\n",
            "Batch 10/68, Loss: 0.6647\n",
            "Batch 20/68, Loss: 0.6277\n",
            "Batch 30/68, Loss: 0.5577\n",
            "Batch 40/68, Loss: 0.5559\n",
            "Batch 50/68, Loss: 0.6448\n",
            "Batch 60/68, Loss: 0.5561\n",
            "Train Loss: 0.6357, Val Loss: 0.5517, Val Acc: 0.6696\n",
            "✅ New best model saved with Val Acc: 0.6696\n",
            "Checkpoint saved at epoch 1\n",
            "\n",
            "Epoch 2/15\n",
            "--------------------\n",
            "Batch 0/68, Loss: 0.5450\n",
            "Batch 10/68, Loss: 0.4853\n",
            "Batch 20/68, Loss: 0.5436\n",
            "Batch 30/68, Loss: 0.5061\n",
            "Batch 40/68, Loss: 0.4868\n",
            "Batch 50/68, Loss: 0.4712\n",
            "Batch 60/68, Loss: 0.5955\n",
            "Train Loss: 0.5273, Val Loss: 0.4527, Val Acc: 0.8391\n",
            "✅ New best model saved with Val Acc: 0.8391\n",
            "Checkpoint saved at epoch 2\n",
            "\n",
            "Epoch 3/15\n",
            "--------------------\n",
            "Batch 0/68, Loss: 0.3875\n",
            "Batch 10/68, Loss: 0.5376\n",
            "Batch 20/68, Loss: 0.7663\n",
            "Batch 30/68, Loss: 0.3621\n",
            "Batch 40/68, Loss: 0.6672\n",
            "Batch 50/68, Loss: 0.4343\n",
            "Batch 60/68, Loss: 0.6761\n",
            "Train Loss: 0.5046, Val Loss: 0.4787, Val Acc: 0.7217\n",
            "Checkpoint saved at epoch 3\n",
            "\n",
            "Epoch 4/15\n",
            "--------------------\n",
            "Batch 0/68, Loss: 0.3792\n",
            "Batch 10/68, Loss: 0.4247\n",
            "Batch 20/68, Loss: 0.4763\n",
            "Batch 30/68, Loss: 0.4076\n",
            "Batch 40/68, Loss: 0.4501\n",
            "Batch 50/68, Loss: 0.4683\n",
            "Batch 60/68, Loss: 0.4442\n",
            "Train Loss: 0.4423, Val Loss: 0.3851, Val Acc: 0.8370\n",
            "Checkpoint saved at epoch 4\n",
            "\n",
            "Epoch 5/15\n",
            "--------------------\n",
            "Batch 0/68, Loss: 0.4140\n",
            "Batch 10/68, Loss: 0.4580\n",
            "Batch 20/68, Loss: 0.4646\n",
            "Batch 30/68, Loss: 0.4082\n",
            "Batch 40/68, Loss: 0.3361\n",
            "Batch 50/68, Loss: 0.4256\n",
            "Batch 60/68, Loss: 0.4442\n",
            "Train Loss: 0.4281, Val Loss: 0.3839, Val Acc: 0.8283\n",
            "Checkpoint saved at epoch 5\n",
            "\n",
            "Epoch 6/15\n",
            "--------------------\n",
            "Batch 0/68, Loss: 0.4400\n",
            "Batch 10/68, Loss: 0.3796\n",
            "Batch 20/68, Loss: 0.4258\n",
            "Batch 30/68, Loss: 0.3829\n",
            "Batch 40/68, Loss: 0.4079\n",
            "Batch 50/68, Loss: 0.3889\n",
            "Batch 60/68, Loss: 0.3058\n",
            "Train Loss: 0.3970, Val Loss: 0.3884, Val Acc: 0.8130\n",
            "Checkpoint saved at epoch 6\n",
            "🔓 Unfreezing layer4 for fine-tuning...\n",
            "\n",
            "Epoch 7/15\n",
            "--------------------\n"
          ]
        },
        {
          "output_type": "stream",
          "name": "stderr",
          "text": [
            "/usr/local/lib/python3.11/dist-packages/torch/optim/lr_scheduler.py:227: UserWarning: Detected call of `lr_scheduler.step()` before `optimizer.step()`. In PyTorch 1.1.0 and later, you should call them in the opposite order: `optimizer.step()` before `lr_scheduler.step()`.  Failure to do this will result in PyTorch skipping the first value of the learning rate schedule. See more details at https://pytorch.org/docs/stable/optim.html#how-to-adjust-learning-rate\n",
            "  warnings.warn(\n"
          ]
        },
        {
          "output_type": "stream",
          "name": "stdout",
          "text": [
            "Batch 0/68, Loss: 0.3733\n",
            "Batch 10/68, Loss: 0.3084\n",
            "Batch 20/68, Loss: 0.2512\n",
            "Batch 30/68, Loss: 0.2354\n",
            "Batch 40/68, Loss: 0.2055\n",
            "Batch 50/68, Loss: 0.2944\n",
            "Batch 60/68, Loss: 0.2291\n",
            "Train Loss: 0.3037, Val Loss: 0.1202, Val Acc: 0.9543\n",
            "✅ New best model saved with Val Acc: 0.9543\n",
            "Checkpoint saved at epoch 7\n",
            "\n",
            "Epoch 8/15\n",
            "--------------------\n",
            "Batch 0/68, Loss: 0.2310\n",
            "Batch 10/68, Loss: 0.3478\n",
            "Batch 20/68, Loss: 0.4217\n",
            "Batch 30/68, Loss: 0.1928\n",
            "Batch 40/68, Loss: 0.1050\n",
            "Batch 50/68, Loss: 0.0813\n",
            "Batch 60/68, Loss: 0.2851\n",
            "Train Loss: 0.2406, Val Loss: 0.2919, Val Acc: 0.8609\n",
            "Checkpoint saved at epoch 8\n",
            "\n",
            "Epoch 9/15\n",
            "--------------------\n",
            "Batch 0/68, Loss: 0.1884\n",
            "Batch 10/68, Loss: 0.2102\n",
            "Batch 20/68, Loss: 0.0853\n",
            "Batch 30/68, Loss: 0.1583\n",
            "Batch 40/68, Loss: 0.1453\n",
            "Batch 50/68, Loss: 0.3217\n",
            "Batch 60/68, Loss: 0.1195\n",
            "Train Loss: 0.1999, Val Loss: 0.0746, Val Acc: 0.9783\n",
            "✅ New best model saved with Val Acc: 0.9783\n",
            "Checkpoint saved at epoch 9\n",
            "\n",
            "Epoch 10/15\n",
            "--------------------\n",
            "Batch 0/68, Loss: 0.5111\n",
            "Batch 10/68, Loss: 0.0381\n",
            "Batch 20/68, Loss: 0.2076\n",
            "Batch 30/68, Loss: 0.2471\n",
            "Batch 40/68, Loss: 0.0971\n",
            "Batch 50/68, Loss: 0.1948\n",
            "Batch 60/68, Loss: 0.1706\n",
            "Train Loss: 0.1738, Val Loss: 0.0691, Val Acc: 0.9804\n",
            "✅ New best model saved with Val Acc: 0.9804\n",
            "Checkpoint saved at epoch 10\n",
            "\n",
            "Epoch 11/15\n",
            "--------------------\n",
            "Batch 0/68, Loss: 0.1547\n",
            "Batch 10/68, Loss: 0.0572\n",
            "Batch 20/68, Loss: 0.1654\n",
            "Batch 30/68, Loss: 0.0377\n",
            "Batch 40/68, Loss: 0.2175\n",
            "Batch 50/68, Loss: 0.1070\n",
            "Batch 60/68, Loss: 0.0392\n",
            "Train Loss: 0.1540, Val Loss: 0.0865, Val Acc: 0.9543\n",
            "Checkpoint saved at epoch 11\n",
            "\n",
            "Epoch 12/15\n",
            "--------------------\n",
            "Batch 0/68, Loss: 0.1123\n",
            "Batch 10/68, Loss: 0.1573\n",
            "Batch 20/68, Loss: 0.2066\n",
            "Batch 30/68, Loss: 0.0858\n",
            "Batch 40/68, Loss: 0.1861\n",
            "Batch 50/68, Loss: 0.3186\n",
            "Batch 60/68, Loss: 0.1558\n",
            "Train Loss: 0.1277, Val Loss: 0.1055, Val Acc: 0.9522\n",
            "Checkpoint saved at epoch 12\n",
            "\n",
            "Epoch 13/15\n",
            "--------------------\n",
            "Batch 0/68, Loss: 0.1210\n",
            "Batch 10/68, Loss: 0.1177\n",
            "Batch 20/68, Loss: 0.0463\n",
            "Batch 30/68, Loss: 0.0537\n",
            "Batch 40/68, Loss: 0.1925\n",
            "Batch 50/68, Loss: 0.1082\n",
            "Batch 60/68, Loss: 0.0385\n",
            "Train Loss: 0.1344, Val Loss: 0.0671, Val Acc: 0.9761\n",
            "Checkpoint saved at epoch 13\n",
            "\n",
            "Epoch 14/15\n",
            "--------------------\n",
            "Batch 0/68, Loss: 0.0602\n",
            "Batch 10/68, Loss: 0.0280\n",
            "Batch 20/68, Loss: 0.0493\n",
            "Batch 30/68, Loss: 0.1501\n",
            "Batch 40/68, Loss: 0.0247\n",
            "Batch 50/68, Loss: 0.2519\n",
            "Batch 60/68, Loss: 0.0379\n",
            "Train Loss: 0.1151, Val Loss: 0.1108, Val Acc: 0.9565\n",
            "Checkpoint saved at epoch 14\n",
            "\n",
            "Epoch 15/15\n",
            "--------------------\n",
            "Batch 0/68, Loss: 0.0219\n",
            "Batch 10/68, Loss: 0.1416\n",
            "Batch 20/68, Loss: 0.0286\n",
            "Batch 30/68, Loss: 0.0700\n",
            "Batch 40/68, Loss: 0.1225\n",
            "Batch 50/68, Loss: 0.1046\n",
            "Batch 60/68, Loss: 0.0488\n",
            "Train Loss: 0.1235, Val Loss: 0.0920, Val Acc: 0.9609\n",
            "Checkpoint saved at epoch 15\n",
            "\n",
            "Training completed. Best Val Acc: 0.9804 at epoch 10\n",
            "Resume checkpoint cleaned up\n",
            "\n",
            "Evaluating on test set...\n",
            "\n",
            "✅ Test Accuracy: 0.9826\n"
          ]
        }
      ],
      "source": [
        "# Train the model (with resume capability)\n",
        "EPOCHS = 15\n",
        "print(\"Starting training...\")\n",
        "print(\"Note: Training will automatically resume from the last checkpoint if available\")\n",
        "history = train_model(model, train_loader, val_loader, epochs=EPOCHS, patience=7, resume=True)\n",
        "\n",
        "# Load best model and evaluate on test set\n",
        "print(\"\\nEvaluating on test set...\")\n",
        "model.load_state_dict(torch.load(checkpoint_path))\n",
        "model.eval()\n",
        "\n",
        "all_preds = []\n",
        "all_labels = []\n",
        "correct = 0\n",
        "total = 0\n",
        "\n",
        "with torch.no_grad():\n",
        "    for inputs, labels in test_loader:\n",
        "        inputs, labels = inputs.to(device), labels.to(device)\n",
        "        outputs = model(inputs)\n",
        "        _, preds = torch.max(outputs, 1)\n",
        "\n",
        "        all_preds.extend(preds.cpu().numpy())\n",
        "        all_labels.extend(labels.cpu().numpy())\n",
        "\n",
        "        correct += (preds == labels).sum().item()\n",
        "        total += labels.size(0)\n",
        "\n",
        "test_acc = correct / total\n",
        "print(f\"\\n✅ Test Accuracy: {test_acc:.4f}\")"
      ]
    },
    {
      "cell_type": "code",
      "execution_count": null,
      "id": "2c47cdb5",
      "metadata": {
        "colab": {
          "base_uri": "https://localhost:8080/"
        },
        "id": "2c47cdb5",
        "outputId": "6cc38706-4e9a-4c7f-ea68-af5c55ab6e9c"
      },
      "outputs": [
        {
          "output_type": "stream",
          "name": "stdout",
          "text": [
            "\n",
            "Classification Report:\n",
            "              precision    recall  f1-score   support\n",
            "\n",
            "    dyslexic       0.99      0.98      0.98       231\n",
            "      normal       0.98      0.99      0.98       230\n",
            "\n",
            "    accuracy                           0.98       461\n",
            "   macro avg       0.98      0.98      0.98       461\n",
            "weighted avg       0.98      0.98      0.98       461\n",
            "\n",
            "\n",
            "Confusion Matrix:\n",
            "[[226   5]\n",
            " [  3 227]]\n"
          ]
        }
      ],
      "source": [
        "# Classification report and confusion matrix\n",
        "print(\"\\nClassification Report:\")\n",
        "print(classification_report(all_labels, all_preds, target_names=class_names))\n",
        "print(\"\\nConfusion Matrix:\")\n",
        "print(confusion_matrix(all_labels, all_preds))"
      ]
    },
    {
      "cell_type": "code",
      "execution_count": null,
      "id": "a81f4246",
      "metadata": {
        "colab": {
          "base_uri": "https://localhost:8080/",
          "height": 482
        },
        "id": "a81f4246",
        "outputId": "e3d97988-3168-445f-bb35-db8892cbb8c0"
      },
      "outputs": [
        {
          "output_type": "display_data",
          "data": {
            "text/plain": [
              "<Figure size 1500x500 with 3 Axes>"
            ],
            "image/png": "[encoded data removed]"
          },
          "metadata": {}
        }
      ],
      "source": [
        "# Plot training history\n",
        "plt.figure(figsize=(15, 5))\n",
        "\n",
        "plt.subplot(1, 3, 1)\n",
        "plt.plot(history['train_loss'], label='Training Loss', marker='o')\n",
        "plt.plot(history['val_loss'], label='Validation Loss', marker='s')\n",
        "plt.title('Model Loss')\n",
        "plt.xlabel('Epoch')\n",
        "plt.ylabel('Loss')\n",
        "plt.legend()\n",
        "plt.grid(True)\n",
        "\n",
        "plt.subplot(1, 3, 2)\n",
        "plt.plot(history['val_acc'], label='Validation Accuracy', marker='o', color='green')\n",
        "plt.title('Model Accuracy')\n",
        "plt.xlabel('Epoch')\n",
        "plt.ylabel('Accuracy')\n",
        "plt.legend()\n",
        "plt.grid(True)\n",
        "\n",
        "plt.subplot(1, 3, 3)\n",
        "# Learning curve\n",
        "train_sizes = list(range(1, len(history['train_loss']) + 1))\n",
        "plt.plot(train_sizes, history['train_loss'], 'o-', label='Training Loss')\n",
        "plt.plot(train_sizes, history['val_loss'], 's-', label='Validation Loss')\n",
        "plt.title('Learning Curves')\n",
        "plt.xlabel('Epoch')\n",
        "plt.ylabel('Loss')\n",
        "plt.legend()\n",
        "plt.grid(True)\n",
        "\n",
        "plt.tight_layout()\n",
        "plt.show()"
      ]
    },
    {
      "cell_type": "code",
      "execution_count": null,
      "id": "828b3b62",
      "metadata": {
        "id": "828b3b62"
      },
      "outputs": [],
      "source": [
        "import matplotlib.pyplot as plt\n",
        "\n",
        "def predict_image(img_path, model, transform, device):\n",
        "    \"\"\"Predict class for a single image and optionally display it\"\"\"\n",
        "    model.eval()\n",
        "    try:\n",
        "        img = Image.open(img_path).convert('RGB')\n",
        "        img_tensor = transform(img).unsqueeze(0).to(device)\n",
        "\n",
        "        with torch.no_grad():\n",
        "            output = model(img_tensor)\n",
        "            probabilities = torch.nn.functional.softmax(output[0], dim=0)\n",
        "            _, pred = torch.max(output, 1)\n",
        "\n",
        "        predicted_class = class_names[pred.item()]\n",
        "        confidence = probabilities[pred.item()].item()\n",
        "\n",
        "        # Show image with prediction\n",
        "        plt.imshow(img)\n",
        "        plt.title(f\"Prediction: {predicted_class} ({confidence:.2f})\")\n",
        "        plt.axis('off')\n",
        "        plt.show()\n",
        "\n",
        "        return predicted_class, confidence\n",
        "    except Exception as e:\n",
        "        print(f\"Error predicting image: {e}\")\n",
        "        return None, None\n"
      ]
    },
    {
      "cell_type": "code",
      "execution_count": null,
      "id": "a8f7b5ab",
      "metadata": {
        "colab": {
          "base_uri": "https://localhost:8080/",
          "height": 204
        },
        "id": "a8f7b5ab",
        "outputId": "506cb488-e367-4fed-ea00-40d180cc1f97"
      },
      "outputs": [
        {
          "output_type": "display_data",
          "data": {
            "text/plain": [
              "<Figure size 640x480 with 1 Axes>"
            ],
            "image/png": "[encoded data removed]"
          },
          "metadata": {}
        },
        {
          "output_type": "stream",
          "name": "stdout",
          "text": [
            "🧠 Predicted class: normal\n",
            "🎯 Confidence: 0.9326\n"
          ]
        }
      ],
      "source": [
        "# Predict local image\n",
        "img_path = '/content/drive/MyDrive/grad_data/test3.png'  # make sure it's in the same folder\n",
        "predicted_class, confidence = predict_image(img_path, model, test_transforms, device)\n",
        "if predicted_class:\n",
        "    print(f\"🧠 Predicted class: {predicted_class}\")\n",
        "    print(f\"🎯 Confidence: {confidence:.4f}\")\n"
      ]
    }
  ],
  "metadata": {
    "colab": {
      "provenance": []
    },
    "kernelspec": {
      "display_name": "Python 3 (ipykernel)",
      "language": "python",
      "name": "python3"
    },
    "language_info": {
      "codemirror_mode": {
        "name": "ipython",
        "version": 3
      },
      "file_extension": ".py",
      "mimetype": "text/x-python",
      "name": "python",
      "nbconvert_exporter": "python",
      "pygments_lexer": "ipython3",
      "version": "3.10.11"
    }
  },
  "nbformat": 4,
  "nbformat_minor": 5
}